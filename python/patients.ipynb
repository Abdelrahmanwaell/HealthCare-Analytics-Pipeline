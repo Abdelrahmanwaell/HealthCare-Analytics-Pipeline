{
 "cells": [
  {
   "cell_type": "code",
   "execution_count": 55,
   "id": "6415524b",
   "metadata": {},
   "outputs": [],
   "source": [
    "import pandas as pd"
   ]
  },
  {
   "cell_type": "code",
   "execution_count": 56,
   "id": "d656096a",
   "metadata": {},
   "outputs": [],
   "source": [
    "import numpy as np"
   ]
  },
  {
   "cell_type": "code",
   "execution_count": null,
   "id": "b4d05acc",
   "metadata": {},
   "outputs": [],
   "source": [
    "\n",
    "df_pat = pd.read_csv(\"D:\\\\ITI_dataEng\\\\bigdata\\\\project\\\\mimic-iii-clinical-database-demo-1.4\\\\PATIENTS.csv\", parse_dates=['dob', 'dod', 'dod_hosp', 'dod_ssn'])\n"
   ]
  },
  {
   "cell_type": "code",
   "execution_count": 57,
   "id": "bcc11700",
   "metadata": {},
   "outputs": [
    {
     "name": "stdout",
     "output_type": "stream",
     "text": [
      "<class 'pandas.core.frame.DataFrame'>\n",
      "RangeIndex: 100 entries, 0 to 99\n",
      "Data columns (total 8 columns):\n",
      " #   Column       Non-Null Count  Dtype         \n",
      "---  ------       --------------  -----         \n",
      " 0   row_id       100 non-null    int64         \n",
      " 1   subject_id   100 non-null    int64         \n",
      " 2   gender       100 non-null    object        \n",
      " 3   dob          100 non-null    datetime64[ns]\n",
      " 4   dod          100 non-null    datetime64[ns]\n",
      " 5   dod_hosp     70 non-null     datetime64[ns]\n",
      " 6   dod_ssn      77 non-null     datetime64[ns]\n",
      " 7   expire_flag  100 non-null    int64         \n",
      "dtypes: datetime64[ns](4), int64(3), object(1)\n",
      "memory usage: 6.4+ KB\n"
     ]
    }
   ],
   "source": [
    "df_pat.info()"
   ]
  },
  {
   "cell_type": "code",
   "execution_count": 19,
   "id": "7a2c323d",
   "metadata": {},
   "outputs": [
    {
     "data": {
      "text/plain": [
       "row_id          0\n",
       "subject_id      0\n",
       "gender          0\n",
       "dob             0\n",
       "dod             0\n",
       "dod_hosp       30\n",
       "dod_ssn        23\n",
       "expire_flag     0\n",
       "dtype: int64"
      ]
     },
     "execution_count": 19,
     "metadata": {},
     "output_type": "execute_result"
    }
   ],
   "source": [
    "df_pat.isnull().sum()\n"
   ]
  },
  {
   "cell_type": "code",
   "execution_count": 58,
   "id": "390c40a1",
   "metadata": {},
   "outputs": [
    {
     "data": {
      "text/html": [
       "<div>\n",
       "<style scoped>\n",
       "    .dataframe tbody tr th:only-of-type {\n",
       "        vertical-align: middle;\n",
       "    }\n",
       "\n",
       "    .dataframe tbody tr th {\n",
       "        vertical-align: top;\n",
       "    }\n",
       "\n",
       "    .dataframe thead th {\n",
       "        text-align: right;\n",
       "    }\n",
       "</style>\n",
       "<table border=\"1\" class=\"dataframe\">\n",
       "  <thead>\n",
       "    <tr style=\"text-align: right;\">\n",
       "      <th></th>\n",
       "      <th>row_id</th>\n",
       "      <th>subject_id</th>\n",
       "      <th>gender</th>\n",
       "      <th>dob</th>\n",
       "      <th>dod</th>\n",
       "      <th>dod_hosp</th>\n",
       "      <th>dod_ssn</th>\n",
       "      <th>expire_flag</th>\n",
       "    </tr>\n",
       "  </thead>\n",
       "  <tbody>\n",
       "    <tr>\n",
       "      <th>0</th>\n",
       "      <td>9467</td>\n",
       "      <td>10006</td>\n",
       "      <td>F</td>\n",
       "      <td>2094-03-05</td>\n",
       "      <td>2165-08-12</td>\n",
       "      <td>2165-08-12</td>\n",
       "      <td>2165-08-12</td>\n",
       "      <td>1</td>\n",
       "    </tr>\n",
       "    <tr>\n",
       "      <th>1</th>\n",
       "      <td>9472</td>\n",
       "      <td>10011</td>\n",
       "      <td>F</td>\n",
       "      <td>2090-06-05</td>\n",
       "      <td>2126-08-28</td>\n",
       "      <td>2126-08-28</td>\n",
       "      <td>NaT</td>\n",
       "      <td>1</td>\n",
       "    </tr>\n",
       "    <tr>\n",
       "      <th>2</th>\n",
       "      <td>9474</td>\n",
       "      <td>10013</td>\n",
       "      <td>F</td>\n",
       "      <td>2038-09-03</td>\n",
       "      <td>2125-10-07</td>\n",
       "      <td>2125-10-07</td>\n",
       "      <td>2125-10-07</td>\n",
       "      <td>1</td>\n",
       "    </tr>\n",
       "    <tr>\n",
       "      <th>3</th>\n",
       "      <td>9478</td>\n",
       "      <td>10017</td>\n",
       "      <td>F</td>\n",
       "      <td>2075-09-21</td>\n",
       "      <td>2152-09-12</td>\n",
       "      <td>NaT</td>\n",
       "      <td>2152-09-12</td>\n",
       "      <td>1</td>\n",
       "    </tr>\n",
       "    <tr>\n",
       "      <th>4</th>\n",
       "      <td>9479</td>\n",
       "      <td>10019</td>\n",
       "      <td>M</td>\n",
       "      <td>2114-06-20</td>\n",
       "      <td>2163-05-15</td>\n",
       "      <td>2163-05-15</td>\n",
       "      <td>2163-05-15</td>\n",
       "      <td>1</td>\n",
       "    </tr>\n",
       "    <tr>\n",
       "      <th>5</th>\n",
       "      <td>9486</td>\n",
       "      <td>10026</td>\n",
       "      <td>F</td>\n",
       "      <td>1895-05-17</td>\n",
       "      <td>2195-11-24</td>\n",
       "      <td>NaT</td>\n",
       "      <td>2195-11-24</td>\n",
       "      <td>1</td>\n",
       "    </tr>\n",
       "    <tr>\n",
       "      <th>6</th>\n",
       "      <td>9487</td>\n",
       "      <td>10027</td>\n",
       "      <td>F</td>\n",
       "      <td>2108-01-15</td>\n",
       "      <td>2190-09-14</td>\n",
       "      <td>NaT</td>\n",
       "      <td>2190-09-14</td>\n",
       "      <td>1</td>\n",
       "    </tr>\n",
       "    <tr>\n",
       "      <th>7</th>\n",
       "      <td>9489</td>\n",
       "      <td>10029</td>\n",
       "      <td>M</td>\n",
       "      <td>2061-04-10</td>\n",
       "      <td>2140-09-21</td>\n",
       "      <td>NaT</td>\n",
       "      <td>2140-09-21</td>\n",
       "      <td>1</td>\n",
       "    </tr>\n",
       "    <tr>\n",
       "      <th>8</th>\n",
       "      <td>9491</td>\n",
       "      <td>10032</td>\n",
       "      <td>M</td>\n",
       "      <td>2050-03-29</td>\n",
       "      <td>2138-05-21</td>\n",
       "      <td>2138-05-21</td>\n",
       "      <td>2138-05-21</td>\n",
       "      <td>1</td>\n",
       "    </tr>\n",
       "    <tr>\n",
       "      <th>9</th>\n",
       "      <td>9492</td>\n",
       "      <td>10033</td>\n",
       "      <td>F</td>\n",
       "      <td>2051-04-21</td>\n",
       "      <td>2133-09-09</td>\n",
       "      <td>NaT</td>\n",
       "      <td>2133-09-09</td>\n",
       "      <td>1</td>\n",
       "    </tr>\n",
       "  </tbody>\n",
       "</table>\n",
       "</div>"
      ],
      "text/plain": [
       "   row_id  subject_id gender        dob        dod   dod_hosp    dod_ssn  \\\n",
       "0    9467       10006      F 2094-03-05 2165-08-12 2165-08-12 2165-08-12   \n",
       "1    9472       10011      F 2090-06-05 2126-08-28 2126-08-28        NaT   \n",
       "2    9474       10013      F 2038-09-03 2125-10-07 2125-10-07 2125-10-07   \n",
       "3    9478       10017      F 2075-09-21 2152-09-12        NaT 2152-09-12   \n",
       "4    9479       10019      M 2114-06-20 2163-05-15 2163-05-15 2163-05-15   \n",
       "5    9486       10026      F 1895-05-17 2195-11-24        NaT 2195-11-24   \n",
       "6    9487       10027      F 2108-01-15 2190-09-14        NaT 2190-09-14   \n",
       "7    9489       10029      M 2061-04-10 2140-09-21        NaT 2140-09-21   \n",
       "8    9491       10032      M 2050-03-29 2138-05-21 2138-05-21 2138-05-21   \n",
       "9    9492       10033      F 2051-04-21 2133-09-09        NaT 2133-09-09   \n",
       "\n",
       "   expire_flag  \n",
       "0            1  \n",
       "1            1  \n",
       "2            1  \n",
       "3            1  \n",
       "4            1  \n",
       "5            1  \n",
       "6            1  \n",
       "7            1  \n",
       "8            1  \n",
       "9            1  "
      ]
     },
     "execution_count": 58,
     "metadata": {},
     "output_type": "execute_result"
    }
   ],
   "source": [
    "df_pat.head(10)"
   ]
  },
  {
   "cell_type": "code",
   "execution_count": 12,
   "id": "d1d04462",
   "metadata": {},
   "outputs": [],
   "source": [
    "#convert to date\n",
    "date_cols = ['dob', 'dod', 'dod_hosp', 'dod_ssn']\n",
    "for col in date_cols:\n",
    "    df_pat[col] = pd.to_datetime(df_pat[col], errors='coerce')"
   ]
  },
  {
   "cell_type": "code",
   "execution_count": 13,
   "id": "d62854c4",
   "metadata": {},
   "outputs": [],
   "source": [
    "#convert to category\n",
    "df_pat['gender'] = df_pat['gender'].astype('category')\n",
    "#convert to bool\n",
    "df_pat['expire_flag'] = df_pat['expire_flag'].astype(bool)\n"
   ]
  },
  {
   "cell_type": "code",
   "execution_count": 25,
   "id": "ab701823",
   "metadata": {},
   "outputs": [
    {
     "name": "stdout",
     "output_type": "stream",
     "text": [
      "<class 'pandas.core.frame.DataFrame'>\n",
      "RangeIndex: 100 entries, 0 to 99\n",
      "Data columns (total 9 columns):\n",
      " #   Column       Non-Null Count  Dtype         \n",
      "---  ------       --------------  -----         \n",
      " 0   row_id       100 non-null    int64         \n",
      " 1   subject_id   100 non-null    int64         \n",
      " 2   gender       100 non-null    category      \n",
      " 3   dob          100 non-null    datetime64[ns]\n",
      " 4   dod          100 non-null    datetime64[ns]\n",
      " 5   dod_hosp     70 non-null     datetime64[ns]\n",
      " 6   dod_ssn      77 non-null     datetime64[ns]\n",
      " 7   expire_flag  100 non-null    bool          \n",
      " 8   is_deceased  100 non-null    bool          \n",
      "dtypes: bool(2), category(1), datetime64[ns](4), int64(2)\n",
      "memory usage: 5.2 KB\n"
     ]
    }
   ],
   "source": [
    "df_pat.info()"
   ]
  },
  {
   "cell_type": "code",
   "execution_count": 27,
   "id": "08410163",
   "metadata": {},
   "outputs": [
    {
     "data": {
      "text/plain": [
       "row_id                  int64\n",
       "subject_id              int64\n",
       "gender               category\n",
       "dob            datetime64[ns]\n",
       "dod            datetime64[ns]\n",
       "dod_hosp       datetime64[ns]\n",
       "dod_ssn        datetime64[ns]\n",
       "expire_flag              bool\n",
       "is_deceased              bool\n",
       "dtype: object"
      ]
     },
     "execution_count": 27,
     "metadata": {},
     "output_type": "execute_result"
    }
   ],
   "source": [
    "df_pat.dtypes"
   ]
  },
  {
   "cell_type": "code",
   "execution_count": 96,
   "id": "766e15db",
   "metadata": {},
   "outputs": [
    {
     "data": {
      "text/html": [
       "<div>\n",
       "<style scoped>\n",
       "    .dataframe tbody tr th:only-of-type {\n",
       "        vertical-align: middle;\n",
       "    }\n",
       "\n",
       "    .dataframe tbody tr th {\n",
       "        vertical-align: top;\n",
       "    }\n",
       "\n",
       "    .dataframe thead th {\n",
       "        text-align: right;\n",
       "    }\n",
       "</style>\n",
       "<table border=\"1\" class=\"dataframe\">\n",
       "  <thead>\n",
       "    <tr style=\"text-align: right;\">\n",
       "      <th></th>\n",
       "      <th>row_id</th>\n",
       "      <th>subject_id</th>\n",
       "      <th>gender</th>\n",
       "      <th>dob</th>\n",
       "      <th>dod</th>\n",
       "      <th>dod_hosp</th>\n",
       "      <th>dod_ssn</th>\n",
       "      <th>expire_flag</th>\n",
       "      <th>is_deceased</th>\n",
       "    </tr>\n",
       "  </thead>\n",
       "  <tbody>\n",
       "    <tr>\n",
       "      <th>0</th>\n",
       "      <td>9467</td>\n",
       "      <td>10006</td>\n",
       "      <td>F</td>\n",
       "      <td>2094-03-05</td>\n",
       "      <td>2165-08-12</td>\n",
       "      <td>2165-08-12</td>\n",
       "      <td>2165-08-12</td>\n",
       "      <td>True</td>\n",
       "      <td>True</td>\n",
       "    </tr>\n",
       "    <tr>\n",
       "      <th>1</th>\n",
       "      <td>9472</td>\n",
       "      <td>10011</td>\n",
       "      <td>F</td>\n",
       "      <td>2090-06-05</td>\n",
       "      <td>2126-08-28</td>\n",
       "      <td>2126-08-28</td>\n",
       "      <td>NaT</td>\n",
       "      <td>True</td>\n",
       "      <td>True</td>\n",
       "    </tr>\n",
       "    <tr>\n",
       "      <th>2</th>\n",
       "      <td>9474</td>\n",
       "      <td>10013</td>\n",
       "      <td>F</td>\n",
       "      <td>2038-09-03</td>\n",
       "      <td>2125-10-07</td>\n",
       "      <td>2125-10-07</td>\n",
       "      <td>2125-10-07</td>\n",
       "      <td>True</td>\n",
       "      <td>True</td>\n",
       "    </tr>\n",
       "    <tr>\n",
       "      <th>3</th>\n",
       "      <td>9478</td>\n",
       "      <td>10017</td>\n",
       "      <td>F</td>\n",
       "      <td>2075-09-21</td>\n",
       "      <td>2152-09-12</td>\n",
       "      <td>NaT</td>\n",
       "      <td>2152-09-12</td>\n",
       "      <td>True</td>\n",
       "      <td>True</td>\n",
       "    </tr>\n",
       "    <tr>\n",
       "      <th>4</th>\n",
       "      <td>9479</td>\n",
       "      <td>10019</td>\n",
       "      <td>M</td>\n",
       "      <td>2114-06-20</td>\n",
       "      <td>2163-05-15</td>\n",
       "      <td>2163-05-15</td>\n",
       "      <td>2163-05-15</td>\n",
       "      <td>True</td>\n",
       "      <td>True</td>\n",
       "    </tr>\n",
       "  </tbody>\n",
       "</table>\n",
       "</div>"
      ],
      "text/plain": [
       "   row_id  subject_id gender        dob        dod   dod_hosp    dod_ssn  \\\n",
       "0    9467       10006      F 2094-03-05 2165-08-12 2165-08-12 2165-08-12   \n",
       "1    9472       10011      F 2090-06-05 2126-08-28 2126-08-28        NaT   \n",
       "2    9474       10013      F 2038-09-03 2125-10-07 2125-10-07 2125-10-07   \n",
       "3    9478       10017      F 2075-09-21 2152-09-12        NaT 2152-09-12   \n",
       "4    9479       10019      M 2114-06-20 2163-05-15 2163-05-15 2163-05-15   \n",
       "\n",
       "   expire_flag  is_deceased  \n",
       "0         True         True  \n",
       "1         True         True  \n",
       "2         True         True  \n",
       "3         True         True  \n",
       "4         True         True  "
      ]
     },
     "execution_count": 96,
     "metadata": {},
     "output_type": "execute_result"
    }
   ],
   "source": [
    "df_pat.head()"
   ]
  },
  {
   "cell_type": "code",
   "execution_count": null,
   "id": "cdf7dec9",
   "metadata": {},
   "outputs": [],
   "source": [
    "\n",
    "datetime_cols = ['dob', 'dod', 'dod_hosp', 'dod_ssn']\n"
   ]
  },
  {
   "cell_type": "code",
   "execution_count": 41,
   "id": "fac2979c",
   "metadata": {},
   "outputs": [],
   "source": [
    "for col in datetime_cols:\n",
    "    df_pat[col] = df_pat[col].dt.strftime('%Y-%m-%d %H:%M:%S')"
   ]
  },
  {
   "cell_type": "code",
   "execution_count": 42,
   "id": "0ed60821",
   "metadata": {},
   "outputs": [
    {
     "data": {
      "text/html": [
       "<div>\n",
       "<style scoped>\n",
       "    .dataframe tbody tr th:only-of-type {\n",
       "        vertical-align: middle;\n",
       "    }\n",
       "\n",
       "    .dataframe tbody tr th {\n",
       "        vertical-align: top;\n",
       "    }\n",
       "\n",
       "    .dataframe thead th {\n",
       "        text-align: right;\n",
       "    }\n",
       "</style>\n",
       "<table border=\"1\" class=\"dataframe\">\n",
       "  <thead>\n",
       "    <tr style=\"text-align: right;\">\n",
       "      <th></th>\n",
       "      <th>dob</th>\n",
       "      <th>dod</th>\n",
       "      <th>dod_hosp</th>\n",
       "      <th>dod_ssn</th>\n",
       "    </tr>\n",
       "  </thead>\n",
       "  <tbody>\n",
       "    <tr>\n",
       "      <th>0</th>\n",
       "      <td>2094-03-05 00:00:00</td>\n",
       "      <td>2165-08-12 00:00:00</td>\n",
       "      <td>2165-08-12 00:00:00</td>\n",
       "      <td>2165-08-12 00:00:00</td>\n",
       "    </tr>\n",
       "    <tr>\n",
       "      <th>1</th>\n",
       "      <td>2090-06-05 00:00:00</td>\n",
       "      <td>2126-08-28 00:00:00</td>\n",
       "      <td>2126-08-28 00:00:00</td>\n",
       "      <td>NaN</td>\n",
       "    </tr>\n",
       "    <tr>\n",
       "      <th>2</th>\n",
       "      <td>2038-09-03 00:00:00</td>\n",
       "      <td>2125-10-07 00:00:00</td>\n",
       "      <td>2125-10-07 00:00:00</td>\n",
       "      <td>2125-10-07 00:00:00</td>\n",
       "    </tr>\n",
       "    <tr>\n",
       "      <th>3</th>\n",
       "      <td>2075-09-21 00:00:00</td>\n",
       "      <td>2152-09-12 00:00:00</td>\n",
       "      <td>NaN</td>\n",
       "      <td>2152-09-12 00:00:00</td>\n",
       "    </tr>\n",
       "    <tr>\n",
       "      <th>4</th>\n",
       "      <td>2114-06-20 00:00:00</td>\n",
       "      <td>2163-05-15 00:00:00</td>\n",
       "      <td>2163-05-15 00:00:00</td>\n",
       "      <td>2163-05-15 00:00:00</td>\n",
       "    </tr>\n",
       "  </tbody>\n",
       "</table>\n",
       "</div>"
      ],
      "text/plain": [
       "                   dob                  dod             dod_hosp  \\\n",
       "0  2094-03-05 00:00:00  2165-08-12 00:00:00  2165-08-12 00:00:00   \n",
       "1  2090-06-05 00:00:00  2126-08-28 00:00:00  2126-08-28 00:00:00   \n",
       "2  2038-09-03 00:00:00  2125-10-07 00:00:00  2125-10-07 00:00:00   \n",
       "3  2075-09-21 00:00:00  2152-09-12 00:00:00                  NaN   \n",
       "4  2114-06-20 00:00:00  2163-05-15 00:00:00  2163-05-15 00:00:00   \n",
       "\n",
       "               dod_ssn  \n",
       "0  2165-08-12 00:00:00  \n",
       "1                  NaN  \n",
       "2  2125-10-07 00:00:00  \n",
       "3  2152-09-12 00:00:00  \n",
       "4  2163-05-15 00:00:00  "
      ]
     },
     "execution_count": 42,
     "metadata": {},
     "output_type": "execute_result"
    }
   ],
   "source": [
    "df_pat[datetime_cols].head()\n"
   ]
  },
  {
   "cell_type": "code",
   "execution_count": 43,
   "id": "714382b9",
   "metadata": {},
   "outputs": [
    {
     "data": {
      "text/plain": [
       "row_id          int64\n",
       "subject_id      int64\n",
       "gender         object\n",
       "dob            object\n",
       "dod            object\n",
       "dod_hosp       object\n",
       "dod_ssn        object\n",
       "expire_flag     int64\n",
       "dtype: object"
      ]
     },
     "execution_count": 43,
     "metadata": {},
     "output_type": "execute_result"
    }
   ],
   "source": [
    "df_pat.dtypes"
   ]
  },
  {
   "cell_type": "code",
   "execution_count": 45,
   "id": "fcad8d14",
   "metadata": {},
   "outputs": [],
   "source": [
    "df_pat.to_csv('Patients_cleaned.csv', index=False)\n"
   ]
  },
  {
   "cell_type": "code",
   "execution_count": null,
   "id": "53d027bb",
   "metadata": {},
   "outputs": [],
   "source": []
  }
 ],
 "metadata": {
  "kernelspec": {
   "display_name": "base",
   "language": "python",
   "name": "python3"
  },
  "language_info": {
   "codemirror_mode": {
    "name": "ipython",
    "version": 3
   },
   "file_extension": ".py",
   "mimetype": "text/x-python",
   "name": "python",
   "nbconvert_exporter": "python",
   "pygments_lexer": "ipython3",
   "version": "3.12.7"
  }
 },
 "nbformat": 4,
 "nbformat_minor": 5
}
